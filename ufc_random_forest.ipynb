{
 "cells": [
  {
   "cell_type": "code",
   "execution_count": 1,
   "metadata": {},
   "outputs": [],
   "source": [
    "# Import Dependencies\n",
    "import pandas as pd\n",
    "import matplotlib.pyplot as plt\n",
    "from sklearn.model_selection import train_test_split\n",
    "from sklearn.ensemble import RandomForestClassifier\n",
    "from sklearn.ensemble import RandomForestRegressor"
   ]
  },
  {
   "cell_type": "code",
   "execution_count": 2,
   "metadata": {},
   "outputs": [],
   "source": [
    "# Define File Path\n",
    "complete = \"ufc_complete.csv\"\n",
    "\n",
    "# # Colab URL\n",
    "# complete = 'https://raw.githubusercontent.com/GregoryRash6/Project-3/master/ufc_complete.csv'\n",
    "\n",
    "# Read CSV\n",
    "data = pd.read_csv(complete)"
   ]
  },
  {
   "cell_type": "code",
   "execution_count": 3,
   "metadata": {},
   "outputs": [],
   "source": [
    "# Set Target\n",
    "target = data[\"Winner_Blue\"]\n",
    "\n",
    "# Set Target Names\n",
    "target_names = [\"Lost\", \"Won\"]"
   ]
  },
  {
   "cell_type": "code",
   "execution_count": 4,
   "metadata": {
    "scrolled": true
   },
   "outputs": [],
   "source": [
    "# Drop Winner\n",
    "data = data.drop(\"Winner_Blue\", axis=1)\n",
    "\n",
    "# Get Feature Names\n",
    "feature_names = data.columns"
   ]
  },
  {
   "cell_type": "code",
   "execution_count": 5,
   "metadata": {},
   "outputs": [],
   "source": [
    "# Train Test Split\n",
    "X_train, X_test, y_train, y_test = train_test_split(data, target, random_state=42)"
   ]
  },
  {
   "cell_type": "code",
   "execution_count": 6,
   "metadata": {},
   "outputs": [
    {
     "name": "stdout",
     "output_type": "stream",
     "text": [
      "Training Score: 0.7863145258103241\n",
      "Testing Score: 0.6830732292917167\n",
      "Difference: 0.10324129651860747\n"
     ]
    }
   ],
   "source": [
    "# Create Random Forest\n",
    "rf = RandomForestClassifier(n_estimators=100, \n",
    "                            random_state=42, \n",
    "                            max_depth=10, \n",
    "                            max_features = \"sqrt\", \n",
    "                            min_samples_split = 20, \n",
    "                            min_samples_leaf = 5)\n",
    "\n",
    "# Fit Model\n",
    "rf = rf.fit(X_train, y_train)\n",
    "\n",
    "# Print Training Score\n",
    "print(f\"Training Score: {rf.score(X_train, y_train)}\")\n",
    "\n",
    "# Print Testing Score\n",
    "print(f\"Testing Score: {rf.score(X_test, y_test)}\")\n",
    "\n",
    "# Print Difference\n",
    "print(f\"Difference: {rf.score(X_train, y_train) - rf.score(X_test, y_test)}\")"
   ]
  },
  {
   "cell_type": "code",
   "execution_count": 7,
   "metadata": {},
   "outputs": [],
   "source": [
    "# n_estimators = [100, 200, 300, 400, 500, 600, 700, 800, 900, 1000]\n",
    "# max_features = [\"auto\", \"sqrt\", \"log2\"]\n",
    "# max_depth = [5, 10, 20, 30, 40, 50]\n",
    "# max_depth.append(None)\n",
    "# min_samples_split = [2, 5, 10, 20]\n",
    "# min_samples_leaf = [1, 2, 5, 10, 15]\n",
    "\n",
    "# grid_params = {\"n_estimators\": n_estimators, \n",
    "#                \"max_features\": max_features, \n",
    "#                \"max_depth\": max_depth, \n",
    "#                \"min_samples_split\": min_samples_split, \n",
    "#                \"min_samples_leaf\": min_samples_leaf}\n",
    "\n",
    "# from sklearn.model_selection import RandomizedSearchCV\n",
    "\n",
    "# RFR = RandomForestRegressor(random_state=42)\n",
    "# RFR_random = RandomizedSearchCV(estimator = RFR,\n",
    "#                                param_distributions = grid_params,\n",
    "#                                n_iter = 500,\n",
    "#                                cv = 5,\n",
    "#                                verbose = 2,\n",
    "#                                random_state = 42,\n",
    "#                                n_jobs = -1)\n",
    "# # regres = values.reshape(1,-1) \n",
    "# RFR_random.fit(X_train, y_train)\n",
    "# print(RFR_random.best_params_)"
   ]
  },
  {
   "cell_type": "code",
   "execution_count": 8,
   "metadata": {
    "scrolled": false
   },
   "outputs": [
    {
     "data": {
      "text/plain": [
       "[(0.06677858809184407, 'B_avg_SIG_STR_landed'),\n",
       " (0.06204424902968597, 'R_age'),\n",
       " (0.041701341919701436, 'R_avg_TD_pct'),\n",
       " (0.04107802950767342, 'R_avg_SIG_STR_landed'),\n",
       " (0.03608580740760738, 'R_avg_TD_landed'),\n",
       " (0.03567661312384828, 'R_total_rounds_fought'),\n",
       " (0.03504621304427698, 'B_avg_SIG_STR_pct'),\n",
       " (0.03455839587926781, 'R_avg_SIG_STR_pct'),\n",
       " (0.03312532808963016, 'R_avg_SUB_ATT'),\n",
       " (0.03251707214605203, 'B_age'),\n",
       " (0.03240331653635405, 'R_BMI'),\n",
       " (0.031055340826258878, 'B_avg_TD_landed'),\n",
       " (0.0280852971832032, 'elevation (ft)'),\n",
       " (0.027918566133419406, 'B_BMI'),\n",
       " (0.027403439344515897, 'R_losses'),\n",
       " (0.02592397240774048, 'B_avg_TD_pct'),\n",
       " (0.024414379026019964, 'B_avg_SUB_ATT'),\n",
       " (0.02264064424172495, 'B_total_rounds_fought'),\n",
       " (0.020482411697960456, 'R_wins'),\n",
       " (0.019154347192435896, 'R_win_by_Decision_Split'),\n",
       " (0.018863259041487987, 'R_Height_cms'),\n",
       " (0.018607092897813052, 'B_Reach_cms'),\n",
       " (0.017861488633214847, 'R_Reach_cms'),\n",
       " (0.017071595252355482, 'B_Height_cms'),\n",
       " (0.01613683514624162, 'B_wins'),\n",
       " (0.014599574423597892, 'B_losses'),\n",
       " (0.013277655498785226, 'B_Weight_lbs'),\n",
       " (0.01244095489569483, 'B_win_by_Decision_Unanimous'),\n",
       " (0.012105857647630568, 'R_longest_win_streak'),\n",
       " (0.012094067562489852, 'R_Weight_lbs'),\n",
       " (0.011763985626810875, 'B_longest_win_streak'),\n",
       " (0.01140923897570515, 'R_total_title_bouts'),\n",
       " (0.01126317926536694, 'R_win_by_Decision_Unanimous'),\n",
       " (0.01069879758309193, 'R_win_by_Submission'),\n",
       " (0.010491675023205234, 'R_win_by_KO/TKO'),\n",
       " (0.010256218667880962, 'B_win_by_Submission'),\n",
       " (0.010110460943554054, 'R_current_win_streak'),\n",
       " (0.009608710677872018, 'B_total_title_bouts'),\n",
       " (0.009147856194267891, 'B_current_win_streak'),\n",
       " (0.008304280187484832, 'B_win_by_KO/TKO'),\n",
       " (0.006025247956989199, 'R_current_lose_streak'),\n",
       " (0.005253183507314314, 'B_current_lose_streak'),\n",
       " (0.004614142387072383, 'B_win_by_Decision_Split'),\n",
       " (0.004212286278172039, 'B_Stance_Southpaw'),\n",
       " (0.0036668732748067452, 'weight_class_Welterweight'),\n",
       " (0.0035233034469248563, 'B_Stance_Orthodox'),\n",
       " (0.0034589757320009126, 'title_bout_True'),\n",
       " (0.003411587541595921, 'R_Stance_Orthodox'),\n",
       " (0.002981076081594568, 'weight_class_Light Heavyweight'),\n",
       " (0.002812894180375171, 'title_bout_False'),\n",
       " (0.0026317272467688345, 'R_Stance_Southpaw'),\n",
       " (0.0024218334319264538, 'weight_class_Lightweight'),\n",
       " (0.00240325485363797, 'R_hot_or_not'),\n",
       " (0.0022426682835566514, 'weight_class_Featherweight'),\n",
       " (0.0021891032637229237, 'B_win_by_TKO_Doctor_Stoppage'),\n",
       " (0.002176098443534667, 'weight_class_Middleweight'),\n",
       " (0.002130782338914061, 'B_hot_or_not'),\n",
       " (0.0014769513095302918, 'no_of_rounds'),\n",
       " (0.0014582453883152308, 'R_Stance_Switch'),\n",
       " (0.0013137052071493175, 'B_Stance_Switch'),\n",
       " (0.001139729453355254, 'R_win_by_Decision_Majority'),\n",
       " (0.001087505717474764, 'R_win_by_TKO_Doctor_Stoppage'),\n",
       " (0.001055775874214347, 'weight_class_Bantamweight'),\n",
       " (0.0010250188729802464, 'weight_class_Heavyweight'),\n",
       " (0.0007929002980569734, 'weight_class_Flyweight'),\n",
       " (0.00028899265624396294, 'B_win_by_Decision_Majority'),\n",
       " (0.0, 'R_draw'),\n",
       " (0.0, 'R_Stance_Open Stance'),\n",
       " (0.0, 'B_draw'),\n",
       " (0.0, 'B_Stance_Open Stance')]"
      ]
     },
     "execution_count": 8,
     "metadata": {},
     "output_type": "execute_result"
    }
   ],
   "source": [
    "# Sort & Show Important Features\n",
    "sorted(zip(rf.feature_importances_, feature_names), reverse=True)"
   ]
  },
  {
   "cell_type": "code",
   "execution_count": 9,
   "metadata": {},
   "outputs": [
    {
     "name": "stdout",
     "output_type": "stream",
     "text": [
      "First 10 Predictions:   [0, 0, 0, 0, 0, 1, 0, 0, 1, 0]\n",
      "First 10 Actual labels: [1, 1, 1, 1, 0, 1, 0, 1, 0, 0]\n"
     ]
    }
   ],
   "source": [
    "# Make Predictions\n",
    "predictions = rf.predict(X_test)\n",
    "\n",
    "# Print First 10 Predictions\n",
    "print(f\"First 10 Predictions:   {predictions[:10].tolist()}\")\n",
    "\n",
    "# Print First 10 Results\n",
    "print(f\"First 10 Actual labels: {y_test[:10].tolist()}\")"
   ]
  },
  {
   "cell_type": "code",
   "execution_count": 10,
   "metadata": {},
   "outputs": [
    {
     "data": {
      "text/html": [
       "<div>\n",
       "<style scoped>\n",
       "    .dataframe tbody tr th:only-of-type {\n",
       "        vertical-align: middle;\n",
       "    }\n",
       "\n",
       "    .dataframe tbody tr th {\n",
       "        vertical-align: top;\n",
       "    }\n",
       "\n",
       "    .dataframe thead th {\n",
       "        text-align: right;\n",
       "    }\n",
       "</style>\n",
       "<table border=\"1\" class=\"dataframe\">\n",
       "  <thead>\n",
       "    <tr style=\"text-align: right;\">\n",
       "      <th></th>\n",
       "      <th>Prediction</th>\n",
       "      <th>Actual</th>\n",
       "    </tr>\n",
       "  </thead>\n",
       "  <tbody>\n",
       "    <tr>\n",
       "      <td>0</td>\n",
       "      <td>0</td>\n",
       "      <td>1</td>\n",
       "    </tr>\n",
       "    <tr>\n",
       "      <td>1</td>\n",
       "      <td>0</td>\n",
       "      <td>1</td>\n",
       "    </tr>\n",
       "    <tr>\n",
       "      <td>2</td>\n",
       "      <td>0</td>\n",
       "      <td>1</td>\n",
       "    </tr>\n",
       "    <tr>\n",
       "      <td>3</td>\n",
       "      <td>0</td>\n",
       "      <td>1</td>\n",
       "    </tr>\n",
       "    <tr>\n",
       "      <td>4</td>\n",
       "      <td>0</td>\n",
       "      <td>0</td>\n",
       "    </tr>\n",
       "    <tr>\n",
       "      <td>5</td>\n",
       "      <td>1</td>\n",
       "      <td>1</td>\n",
       "    </tr>\n",
       "    <tr>\n",
       "      <td>6</td>\n",
       "      <td>0</td>\n",
       "      <td>0</td>\n",
       "    </tr>\n",
       "    <tr>\n",
       "      <td>7</td>\n",
       "      <td>0</td>\n",
       "      <td>1</td>\n",
       "    </tr>\n",
       "    <tr>\n",
       "      <td>8</td>\n",
       "      <td>1</td>\n",
       "      <td>0</td>\n",
       "    </tr>\n",
       "    <tr>\n",
       "      <td>9</td>\n",
       "      <td>0</td>\n",
       "      <td>0</td>\n",
       "    </tr>\n",
       "    <tr>\n",
       "      <td>10</td>\n",
       "      <td>0</td>\n",
       "      <td>1</td>\n",
       "    </tr>\n",
       "    <tr>\n",
       "      <td>11</td>\n",
       "      <td>0</td>\n",
       "      <td>0</td>\n",
       "    </tr>\n",
       "    <tr>\n",
       "      <td>12</td>\n",
       "      <td>0</td>\n",
       "      <td>0</td>\n",
       "    </tr>\n",
       "    <tr>\n",
       "      <td>13</td>\n",
       "      <td>1</td>\n",
       "      <td>0</td>\n",
       "    </tr>\n",
       "    <tr>\n",
       "      <td>14</td>\n",
       "      <td>0</td>\n",
       "      <td>0</td>\n",
       "    </tr>\n",
       "    <tr>\n",
       "      <td>15</td>\n",
       "      <td>0</td>\n",
       "      <td>0</td>\n",
       "    </tr>\n",
       "    <tr>\n",
       "      <td>16</td>\n",
       "      <td>0</td>\n",
       "      <td>0</td>\n",
       "    </tr>\n",
       "    <tr>\n",
       "      <td>17</td>\n",
       "      <td>0</td>\n",
       "      <td>0</td>\n",
       "    </tr>\n",
       "    <tr>\n",
       "      <td>18</td>\n",
       "      <td>0</td>\n",
       "      <td>0</td>\n",
       "    </tr>\n",
       "    <tr>\n",
       "      <td>19</td>\n",
       "      <td>0</td>\n",
       "      <td>1</td>\n",
       "    </tr>\n",
       "    <tr>\n",
       "      <td>20</td>\n",
       "      <td>0</td>\n",
       "      <td>0</td>\n",
       "    </tr>\n",
       "    <tr>\n",
       "      <td>21</td>\n",
       "      <td>0</td>\n",
       "      <td>1</td>\n",
       "    </tr>\n",
       "    <tr>\n",
       "      <td>22</td>\n",
       "      <td>0</td>\n",
       "      <td>0</td>\n",
       "    </tr>\n",
       "    <tr>\n",
       "      <td>23</td>\n",
       "      <td>0</td>\n",
       "      <td>0</td>\n",
       "    </tr>\n",
       "    <tr>\n",
       "      <td>24</td>\n",
       "      <td>1</td>\n",
       "      <td>1</td>\n",
       "    </tr>\n",
       "    <tr>\n",
       "      <td>25</td>\n",
       "      <td>0</td>\n",
       "      <td>1</td>\n",
       "    </tr>\n",
       "    <tr>\n",
       "      <td>26</td>\n",
       "      <td>0</td>\n",
       "      <td>0</td>\n",
       "    </tr>\n",
       "    <tr>\n",
       "      <td>27</td>\n",
       "      <td>0</td>\n",
       "      <td>1</td>\n",
       "    </tr>\n",
       "    <tr>\n",
       "      <td>28</td>\n",
       "      <td>0</td>\n",
       "      <td>0</td>\n",
       "    </tr>\n",
       "    <tr>\n",
       "      <td>29</td>\n",
       "      <td>0</td>\n",
       "      <td>1</td>\n",
       "    </tr>\n",
       "    <tr>\n",
       "      <td>30</td>\n",
       "      <td>0</td>\n",
       "      <td>1</td>\n",
       "    </tr>\n",
       "    <tr>\n",
       "      <td>31</td>\n",
       "      <td>0</td>\n",
       "      <td>0</td>\n",
       "    </tr>\n",
       "    <tr>\n",
       "      <td>32</td>\n",
       "      <td>0</td>\n",
       "      <td>0</td>\n",
       "    </tr>\n",
       "    <tr>\n",
       "      <td>33</td>\n",
       "      <td>0</td>\n",
       "      <td>1</td>\n",
       "    </tr>\n",
       "    <tr>\n",
       "      <td>34</td>\n",
       "      <td>0</td>\n",
       "      <td>0</td>\n",
       "    </tr>\n",
       "    <tr>\n",
       "      <td>35</td>\n",
       "      <td>1</td>\n",
       "      <td>1</td>\n",
       "    </tr>\n",
       "    <tr>\n",
       "      <td>36</td>\n",
       "      <td>0</td>\n",
       "      <td>1</td>\n",
       "    </tr>\n",
       "    <tr>\n",
       "      <td>37</td>\n",
       "      <td>0</td>\n",
       "      <td>1</td>\n",
       "    </tr>\n",
       "    <tr>\n",
       "      <td>38</td>\n",
       "      <td>0</td>\n",
       "      <td>0</td>\n",
       "    </tr>\n",
       "    <tr>\n",
       "      <td>39</td>\n",
       "      <td>0</td>\n",
       "      <td>0</td>\n",
       "    </tr>\n",
       "    <tr>\n",
       "      <td>40</td>\n",
       "      <td>0</td>\n",
       "      <td>0</td>\n",
       "    </tr>\n",
       "    <tr>\n",
       "      <td>41</td>\n",
       "      <td>1</td>\n",
       "      <td>1</td>\n",
       "    </tr>\n",
       "    <tr>\n",
       "      <td>42</td>\n",
       "      <td>0</td>\n",
       "      <td>1</td>\n",
       "    </tr>\n",
       "    <tr>\n",
       "      <td>43</td>\n",
       "      <td>0</td>\n",
       "      <td>1</td>\n",
       "    </tr>\n",
       "    <tr>\n",
       "      <td>44</td>\n",
       "      <td>0</td>\n",
       "      <td>1</td>\n",
       "    </tr>\n",
       "    <tr>\n",
       "      <td>45</td>\n",
       "      <td>0</td>\n",
       "      <td>0</td>\n",
       "    </tr>\n",
       "    <tr>\n",
       "      <td>46</td>\n",
       "      <td>0</td>\n",
       "      <td>1</td>\n",
       "    </tr>\n",
       "    <tr>\n",
       "      <td>47</td>\n",
       "      <td>0</td>\n",
       "      <td>1</td>\n",
       "    </tr>\n",
       "    <tr>\n",
       "      <td>48</td>\n",
       "      <td>0</td>\n",
       "      <td>0</td>\n",
       "    </tr>\n",
       "    <tr>\n",
       "      <td>49</td>\n",
       "      <td>0</td>\n",
       "      <td>0</td>\n",
       "    </tr>\n",
       "  </tbody>\n",
       "</table>\n",
       "</div>"
      ],
      "text/plain": [
       "    Prediction  Actual\n",
       "0            0       1\n",
       "1            0       1\n",
       "2            0       1\n",
       "3            0       1\n",
       "4            0       0\n",
       "5            1       1\n",
       "6            0       0\n",
       "7            0       1\n",
       "8            1       0\n",
       "9            0       0\n",
       "10           0       1\n",
       "11           0       0\n",
       "12           0       0\n",
       "13           1       0\n",
       "14           0       0\n",
       "15           0       0\n",
       "16           0       0\n",
       "17           0       0\n",
       "18           0       0\n",
       "19           0       1\n",
       "20           0       0\n",
       "21           0       1\n",
       "22           0       0\n",
       "23           0       0\n",
       "24           1       1\n",
       "25           0       1\n",
       "26           0       0\n",
       "27           0       1\n",
       "28           0       0\n",
       "29           0       1\n",
       "30           0       1\n",
       "31           0       0\n",
       "32           0       0\n",
       "33           0       1\n",
       "34           0       0\n",
       "35           1       1\n",
       "36           0       1\n",
       "37           0       1\n",
       "38           0       0\n",
       "39           0       0\n",
       "40           0       0\n",
       "41           1       1\n",
       "42           0       1\n",
       "43           0       1\n",
       "44           0       1\n",
       "45           0       0\n",
       "46           0       1\n",
       "47           0       1\n",
       "48           0       0\n",
       "49           0       0"
      ]
     },
     "execution_count": 10,
     "metadata": {},
     "output_type": "execute_result"
    }
   ],
   "source": [
    "# Create Dataframe\n",
    "compare = pd.DataFrame({\"Prediction\": predictions, \"Actual\": y_test}).reset_index(drop=True)\n",
    "\n",
    "# Show First 50 Comparisons\n",
    "compare.head(50)"
   ]
  },
  {
   "cell_type": "code",
   "execution_count": 11,
   "metadata": {},
   "outputs": [],
   "source": [
    "# Save Feature Importances\n",
    "results = sorted(zip(rf.feature_importances_, feature_names), reverse=True)\n",
    "\n",
    "# Set Empty String\n",
    "values = []\n",
    "\n",
    "# Set Empty String\n",
    "names = []\n",
    "\n",
    "# Save Names & Values\n",
    "for x in range(len(results)):\n",
    "    values.append(results[x][0])\n",
    "    names.append(results[x][1])"
   ]
  },
  {
   "cell_type": "code",
   "execution_count": 12,
   "metadata": {
    "scrolled": true
   },
   "outputs": [
    {
     "data": {
      "image/png": "[encoded data removed]",
      "text/plain": [
       "<Figure size 432x288 with 1 Axes>"
      ]
     },
     "metadata": {
      "needs_background": "light"
     },
     "output_type": "display_data"
    },
    {
     "data": {
      "text/plain": [
       "<Figure size 432x288 with 0 Axes>"
      ]
     },
     "metadata": {},
     "output_type": "display_data"
    }
   ],
   "source": [
    "# Plot New Figure\n",
    "plt.figure()\n",
    "\n",
    "# Bar Chart\n",
    "plt.bar(names[0:15], values[0:15])\n",
    "\n",
    "# Set XTicks\n",
    "plt.xticks(names[0:15], rotation=\"vertical\")\n",
    "\n",
    "# Set Title\n",
    "plt.title(\"Feature Importance Frequency\")\n",
    "\n",
    "# Set Y Label\n",
    "plt.ylabel(\"Frequency\")\n",
    "\n",
    "# Set X Label\n",
    "plt.xlabel(\"Feature Importance\")\n",
    "\n",
    "# Display Chart\n",
    "plt.show()\n",
    "\n",
    "# Tight Layout\n",
    "plt.tight_layout()"
   ]
  },
  {
   "cell_type": "code",
   "execution_count": 13,
   "metadata": {},
   "outputs": [],
   "source": [
    "just_data = 0.6530612244897959"
   ]
  },
  {
   "cell_type": "code",
   "execution_count": 14,
   "metadata": {},
   "outputs": [],
   "source": [
    "weight = 0.6626650660264105"
   ]
  },
  {
   "cell_type": "code",
   "execution_count": 15,
   "metadata": {},
   "outputs": [],
   "source": [
    "weight_hot = 0.6602641056422569"
   ]
  },
  {
   "cell_type": "code",
   "execution_count": 16,
   "metadata": {},
   "outputs": [],
   "source": [
    "hot_bmi = 0.6566626650660264"
   ]
  },
  {
   "cell_type": "code",
   "execution_count": 17,
   "metadata": {},
   "outputs": [],
   "source": [
    "weight_hot_bmi = 0.65906362545018"
   ]
  },
  {
   "cell_type": "code",
   "execution_count": 18,
   "metadata": {},
   "outputs": [],
   "source": [
    "weight_hot_elevation = 0.6698679471788715"
   ]
  },
  {
   "cell_type": "code",
   "execution_count": 19,
   "metadata": {},
   "outputs": [],
   "source": [
    "weight_and_elevation = 0.6758703481392557"
   ]
  },
  {
   "cell_type": "code",
   "execution_count": 20,
   "metadata": {},
   "outputs": [],
   "source": [
    "elevation_bmi_weight = 0.6758703481392557"
   ]
  },
  {
   "cell_type": "code",
   "execution_count": 21,
   "metadata": {},
   "outputs": [],
   "source": [
    "elevation_bmi_weight_hot  = 0.6722689075630253"
   ]
  },
  {
   "cell_type": "code",
   "execution_count": 22,
   "metadata": {},
   "outputs": [],
   "source": [
    "elevation_bmi_hot = 0.6818727490996399"
   ]
  },
  {
   "cell_type": "code",
   "execution_count": 23,
   "metadata": {},
   "outputs": [],
   "source": [
    "elevation_bmi = 0.673469387755102"
   ]
  },
  {
   "cell_type": "code",
   "execution_count": 24,
   "metadata": {},
   "outputs": [],
   "source": [
    "elevation_bmi_hot_pollution = 0.6368638239339752"
   ]
  },
  {
   "cell_type": "code",
   "execution_count": 25,
   "metadata": {},
   "outputs": [],
   "source": [
    "elevation_bmi_hot_pollution_attendance = 0.6718092566619915"
   ]
  },
  {
   "cell_type": "code",
   "execution_count": 26,
   "metadata": {},
   "outputs": [],
   "source": [
    "elevation_bmi_hot_attendance = 0.6691176470588235"
   ]
  },
  {
   "cell_type": "code",
   "execution_count": 27,
   "metadata": {},
   "outputs": [],
   "source": [
    "elevation_bmi_attendance = 0.6580882352941176"
   ]
  },
  {
   "cell_type": "code",
   "execution_count": 28,
   "metadata": {},
   "outputs": [],
   "source": [
    "logistic_regression =  0.666043030869972"
   ]
  }
 ],
 "metadata": {
  "kernelspec": {
   "display_name": "Python 3",
   "language": "python",
   "name": "python3"
  },
  "language_info": {
   "codemirror_mode": {
    "name": "ipython",
    "version": 3
   },
   "file_extension": ".py",
   "mimetype": "text/x-python",
   "name": "python",
   "nbconvert_exporter": "python",
   "pygments_lexer": "ipython3",
   "version": "3.7.4"
  }
 },
 "nbformat": 4,
 "nbformat_minor": 2
}
