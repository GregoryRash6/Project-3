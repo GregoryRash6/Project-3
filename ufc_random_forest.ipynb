{
 "cells": [
  {
   "cell_type": "code",
   "execution_count": 1,
   "metadata": {},
   "outputs": [],
   "source": [
    "# Import Dependencies\n",
    "import pandas as pd\n",
    "import matplotlib.pyplot as plt\n",
    "from sklearn.model_selection import train_test_split\n",
    "from sklearn.ensemble import RandomForestClassifier\n",
    "from sklearn.ensemble import RandomForestRegressor"
   ]
  },
  {
   "cell_type": "code",
   "execution_count": 2,
   "metadata": {},
   "outputs": [],
   "source": [
    "# Define File Path\n",
    "complete = \"ufc_complete.csv\"\n",
    "\n",
    "# # Colab URL\n",
    "# complete = 'https://raw.githubusercontent.com/GregoryRash6/Project-3/master/ufc_complete.csv'\n",
    "\n",
    "# Read CSV\n",
    "data = pd.read_csv(complete)"
   ]
  },
  {
   "cell_type": "code",
   "execution_count": 3,
   "metadata": {},
   "outputs": [],
   "source": [
    "# Set Target\n",
    "target = data[\"Winner_Blue\"]\n",
    "\n",
    "# Set Target Names\n",
    "target_names = [\"Lost\", \"Won\"]"
   ]
  },
  {
   "cell_type": "code",
   "execution_count": 4,
   "metadata": {
    "scrolled": true
   },
   "outputs": [],
   "source": [
    "# Drop Winner\n",
    "data = data.drop(\"Winner_Blue\", axis=1)\n",
    "\n",
    "# Get Feature Names\n",
    "feature_names = data.columns"
   ]
  },
  {
   "cell_type": "code",
   "execution_count": 5,
   "metadata": {},
   "outputs": [],
   "source": [
    "# Train Test Split\n",
    "X_train, X_test, y_train, y_test = train_test_split(data, target, random_state=42)"
   ]
  },
  {
   "cell_type": "code",
   "execution_count": 6,
   "metadata": {},
   "outputs": [
    {
     "name": "stdout",
     "output_type": "stream",
     "text": [
      "Training Score: 0.8092566619915849\n",
      "Testing Score: 0.6690042075736325\n",
      "Difference: 0.1402524544179523\n"
     ]
    }
   ],
   "source": [
    "# Create Random Forest\n",
    "rf = RandomForestClassifier(n_estimators=100, \n",
    "                            random_state=42, \n",
    "                            max_depth=10, \n",
    "                            max_features = \"sqrt\", \n",
    "                            min_samples_split = 20, \n",
    "                            min_samples_leaf = 5)\n",
    "\n",
    "# Fit Model\n",
    "rf = rf.fit(X_train, y_train)\n",
    "\n",
    "# Print Training Score\n",
    "print(f\"Training Score: {rf.score(X_train, y_train)}\")\n",
    "\n",
    "# Print Testing Score\n",
    "print(f\"Testing Score: {rf.score(X_test, y_test)}\")\n",
    "\n",
    "# Print Difference\n",
    "print(f\"Difference: {rf.score(X_train, y_train) - rf.score(X_test, y_test)}\")"
   ]
  },
  {
   "cell_type": "code",
   "execution_count": 7,
   "metadata": {},
   "outputs": [],
   "source": [
    "# n_estimators = [100, 200, 300, 400, 500, 600, 700, 800, 900, 1000]\n",
    "# max_features = [\"auto\", \"sqrt\", \"log2\"]\n",
    "# max_depth = [5, 10, 20, 30, 40, 50]\n",
    "# max_depth.append(None)\n",
    "# min_samples_split = [2, 5, 10, 20]\n",
    "# min_samples_leaf = [1, 2, 5, 10, 15]\n",
    "\n",
    "# grid_params = {\"n_estimators\": n_estimators, \n",
    "#                \"max_features\": max_features, \n",
    "#                \"max_depth\": max_depth, \n",
    "#                \"min_samples_split\": min_samples_split, \n",
    "#                \"min_samples_leaf\": min_samples_leaf}\n",
    "\n",
    "# from sklearn.model_selection import RandomizedSearchCV\n",
    "\n",
    "# RFR = RandomForestRegressor(random_state=42)\n",
    "# RFR_random = RandomizedSearchCV(estimator = RFR,\n",
    "#                                param_distributions = grid_params,\n",
    "#                                n_iter = 500,\n",
    "#                                cv = 5,\n",
    "#                                verbose = 2,\n",
    "#                                random_state = 42,\n",
    "#                                n_jobs = -1)\n",
    "# # regres = values.reshape(1,-1) \n",
    "# RFR_random.fit(X_train, y_train)\n",
    "# print(RFR_random.best_params_)"
   ]
  },
  {
   "cell_type": "code",
   "execution_count": 8,
   "metadata": {
    "scrolled": false
   },
   "outputs": [
    {
     "data": {
      "text/plain": [
       "[(0.05900681669789004, 'B_avg_SIG_STR_landed'),\n",
       " (0.053919354172109205, 'R_age'),\n",
       " (0.04793622093248957, 'R_avg_TD_landed'),\n",
       " (0.04496757789289022, 'R_avg_TD_pct'),\n",
       " (0.04218413499573402, 'R_avg_SIG_STR_pct'),\n",
       " (0.041559124208436056, 'B_age'),\n",
       " (0.04058523845637948, 'B_avg_SIG_STR_pct'),\n",
       " (0.03933307526306967, 'R_avg_SIG_STR_landed'),\n",
       " (0.031639654337117906, 'B_BMI'),\n",
       " (0.030738081110203784, 'R_total_rounds_fought'),\n",
       " (0.030414879303927306, 'elevation (ft)'),\n",
       " (0.029712305553957024, 'R_BMI'),\n",
       " (0.02923480712624998, 'B_avg_TD_landed'),\n",
       " (0.028062911125050643, 'R_losses'),\n",
       " (0.025282859073067734, 'B_avg_TD_pct'),\n",
       " (0.024825530270819334, 'R_avg_SUB_ATT'),\n",
       " (0.022353108224148405, 'B_total_rounds_fought'),\n",
       " (0.02121061562832253, 'B_Reach_cms'),\n",
       " (0.021062017082099798, 'B_avg_SUB_ATT'),\n",
       " (0.01812395210580992, 'R_wins'),\n",
       " (0.01753058434669415, 'R_Height_cms'),\n",
       " (0.017385108625207424, 'B_Height_cms'),\n",
       " (0.015507197290110844, 'R_longest_win_streak'),\n",
       " (0.015178564678470592, 'R_Reach_cms'),\n",
       " (0.015098011519945461, 'B_wins'),\n",
       " (0.013937868252619617, 'R_win_by_Decision_Split'),\n",
       " (0.01385514562840763, 'R_win_by_Decision_Unanimous'),\n",
       " (0.013724924338161306, 'B_current_win_streak'),\n",
       " (0.013432307819412296, 'B_Weight_lbs'),\n",
       " (0.011606852477454029, 'R_Weight_lbs'),\n",
       " (0.011590941062013294, 'B_win_by_Decision_Unanimous'),\n",
       " (0.011309243124379495, 'R_win_by_KO/TKO'),\n",
       " (0.011266840305866657, 'B_losses'),\n",
       " (0.01100120747799272, 'R_total_title_bouts'),\n",
       " (0.010798820869351338, 'R_win_by_Submission'),\n",
       " (0.010781591754008118, 'B_longest_win_streak'),\n",
       " (0.010349113147647224, 'R_current_win_streak'),\n",
       " (0.007824903150444104, 'B_win_by_KO/TKO'),\n",
       " (0.0072629069754620666, 'B_win_by_Submission'),\n",
       " (0.007183373117482571, 'title_bout_True'),\n",
       " (0.006018193935658006, 'B_total_title_bouts'),\n",
       " (0.005586583661676946, 'R_current_lose_streak'),\n",
       " (0.0050909081652350694, 'B_current_lose_streak'),\n",
       " (0.005031208450506451, 'B_Stance_Orthodox'),\n",
       " (0.004314739034951212, 'B_hot_or_not'),\n",
       " (0.004245430962705902, 'title_bout_False'),\n",
       " (0.004098487431983951, 'R_Stance_Southpaw'),\n",
       " (0.004084087467690918, 'R_hot_or_not'),\n",
       " (0.0038069256969633382, 'weight_class_Welterweight'),\n",
       " (0.0033552965230859507, 'R_Stance_Orthodox'),\n",
       " (0.0030979886391335346, 'B_win_by_Decision_Split'),\n",
       " (0.0029694583326930328, 'weight_class_Featherweight'),\n",
       " (0.002806552181386071, 'weight_class_Bantamweight'),\n",
       " (0.0021535285215185, 'B_Stance_Southpaw'),\n",
       " (0.002073267998986114, 'no_of_rounds'),\n",
       " (0.001989726322390935, 'weight_class_Lightweight'),\n",
       " (0.0017366154246400518, 'R_win_by_TKO_Doctor_Stoppage'),\n",
       " (0.0016206742632181427, 'B_Stance_Switch'),\n",
       " (0.0015708377524109429, 'weight_class_Middleweight'),\n",
       " (0.0012237508522577308, 'weight_class_Light Heavyweight'),\n",
       " (0.0011419892604886863, 'B_win_by_TKO_Doctor_Stoppage'),\n",
       " (0.0011166233717875707, 'weight_class_Flyweight'),\n",
       " (0.0007635511656505894, 'B_win_by_Decision_Majority'),\n",
       " (0.0006970575948724968, 'weight_class_Heavyweight'),\n",
       " (0.00043193699169171703, 'R_win_by_Decision_Majority'),\n",
       " (0.00019681047551244833, 'R_Stance_Switch'),\n",
       " (0.0, 'R_draw'),\n",
       " (0.0, 'R_Stance_Open Stance'),\n",
       " (0.0, 'B_draw'),\n",
       " (0.0, 'B_Stance_Open Stance')]"
      ]
     },
     "execution_count": 8,
     "metadata": {},
     "output_type": "execute_result"
    }
   ],
   "source": [
    "# Sort & Show Important Features\n",
    "sorted(zip(rf.feature_importances_, feature_names), reverse=True)"
   ]
  },
  {
   "cell_type": "code",
   "execution_count": 9,
   "metadata": {},
   "outputs": [
    {
     "name": "stdout",
     "output_type": "stream",
     "text": [
      "First 10 Predictions:   [0, 0, 0, 0, 0, 0, 0, 0, 0, 0]\n",
      "First 10 Actual labels: [1, 0, 1, 0, 0, 0, 1, 0, 1, 0]\n"
     ]
    }
   ],
   "source": [
    "# Make Predictions\n",
    "predictions = rf.predict(X_test)\n",
    "\n",
    "# Print First 10 Predictions\n",
    "print(f\"First 10 Predictions:   {predictions[:10].tolist()}\")\n",
    "\n",
    "# Print First 10 Results\n",
    "print(f\"First 10 Actual labels: {y_test[:10].tolist()}\")"
   ]
  },
  {
   "cell_type": "code",
   "execution_count": 10,
   "metadata": {},
   "outputs": [
    {
     "data": {
      "text/html": [
       "<div>\n",
       "<style scoped>\n",
       "    .dataframe tbody tr th:only-of-type {\n",
       "        vertical-align: middle;\n",
       "    }\n",
       "\n",
       "    .dataframe tbody tr th {\n",
       "        vertical-align: top;\n",
       "    }\n",
       "\n",
       "    .dataframe thead th {\n",
       "        text-align: right;\n",
       "    }\n",
       "</style>\n",
       "<table border=\"1\" class=\"dataframe\">\n",
       "  <thead>\n",
       "    <tr style=\"text-align: right;\">\n",
       "      <th></th>\n",
       "      <th>Prediction</th>\n",
       "      <th>Actual</th>\n",
       "    </tr>\n",
       "  </thead>\n",
       "  <tbody>\n",
       "    <tr>\n",
       "      <td>0</td>\n",
       "      <td>0</td>\n",
       "      <td>1</td>\n",
       "    </tr>\n",
       "    <tr>\n",
       "      <td>1</td>\n",
       "      <td>0</td>\n",
       "      <td>0</td>\n",
       "    </tr>\n",
       "    <tr>\n",
       "      <td>2</td>\n",
       "      <td>0</td>\n",
       "      <td>1</td>\n",
       "    </tr>\n",
       "    <tr>\n",
       "      <td>3</td>\n",
       "      <td>0</td>\n",
       "      <td>0</td>\n",
       "    </tr>\n",
       "    <tr>\n",
       "      <td>4</td>\n",
       "      <td>0</td>\n",
       "      <td>0</td>\n",
       "    </tr>\n",
       "    <tr>\n",
       "      <td>5</td>\n",
       "      <td>0</td>\n",
       "      <td>0</td>\n",
       "    </tr>\n",
       "    <tr>\n",
       "      <td>6</td>\n",
       "      <td>0</td>\n",
       "      <td>1</td>\n",
       "    </tr>\n",
       "    <tr>\n",
       "      <td>7</td>\n",
       "      <td>0</td>\n",
       "      <td>0</td>\n",
       "    </tr>\n",
       "    <tr>\n",
       "      <td>8</td>\n",
       "      <td>0</td>\n",
       "      <td>1</td>\n",
       "    </tr>\n",
       "    <tr>\n",
       "      <td>9</td>\n",
       "      <td>0</td>\n",
       "      <td>0</td>\n",
       "    </tr>\n",
       "    <tr>\n",
       "      <td>10</td>\n",
       "      <td>0</td>\n",
       "      <td>1</td>\n",
       "    </tr>\n",
       "    <tr>\n",
       "      <td>11</td>\n",
       "      <td>0</td>\n",
       "      <td>0</td>\n",
       "    </tr>\n",
       "    <tr>\n",
       "      <td>12</td>\n",
       "      <td>0</td>\n",
       "      <td>1</td>\n",
       "    </tr>\n",
       "    <tr>\n",
       "      <td>13</td>\n",
       "      <td>0</td>\n",
       "      <td>0</td>\n",
       "    </tr>\n",
       "    <tr>\n",
       "      <td>14</td>\n",
       "      <td>0</td>\n",
       "      <td>0</td>\n",
       "    </tr>\n",
       "    <tr>\n",
       "      <td>15</td>\n",
       "      <td>0</td>\n",
       "      <td>0</td>\n",
       "    </tr>\n",
       "    <tr>\n",
       "      <td>16</td>\n",
       "      <td>0</td>\n",
       "      <td>0</td>\n",
       "    </tr>\n",
       "    <tr>\n",
       "      <td>17</td>\n",
       "      <td>0</td>\n",
       "      <td>1</td>\n",
       "    </tr>\n",
       "    <tr>\n",
       "      <td>18</td>\n",
       "      <td>0</td>\n",
       "      <td>0</td>\n",
       "    </tr>\n",
       "    <tr>\n",
       "      <td>19</td>\n",
       "      <td>0</td>\n",
       "      <td>0</td>\n",
       "    </tr>\n",
       "    <tr>\n",
       "      <td>20</td>\n",
       "      <td>1</td>\n",
       "      <td>1</td>\n",
       "    </tr>\n",
       "    <tr>\n",
       "      <td>21</td>\n",
       "      <td>0</td>\n",
       "      <td>0</td>\n",
       "    </tr>\n",
       "    <tr>\n",
       "      <td>22</td>\n",
       "      <td>0</td>\n",
       "      <td>0</td>\n",
       "    </tr>\n",
       "    <tr>\n",
       "      <td>23</td>\n",
       "      <td>0</td>\n",
       "      <td>1</td>\n",
       "    </tr>\n",
       "    <tr>\n",
       "      <td>24</td>\n",
       "      <td>0</td>\n",
       "      <td>0</td>\n",
       "    </tr>\n",
       "    <tr>\n",
       "      <td>25</td>\n",
       "      <td>0</td>\n",
       "      <td>0</td>\n",
       "    </tr>\n",
       "    <tr>\n",
       "      <td>26</td>\n",
       "      <td>0</td>\n",
       "      <td>1</td>\n",
       "    </tr>\n",
       "    <tr>\n",
       "      <td>27</td>\n",
       "      <td>0</td>\n",
       "      <td>0</td>\n",
       "    </tr>\n",
       "    <tr>\n",
       "      <td>28</td>\n",
       "      <td>1</td>\n",
       "      <td>0</td>\n",
       "    </tr>\n",
       "    <tr>\n",
       "      <td>29</td>\n",
       "      <td>0</td>\n",
       "      <td>1</td>\n",
       "    </tr>\n",
       "    <tr>\n",
       "      <td>30</td>\n",
       "      <td>0</td>\n",
       "      <td>0</td>\n",
       "    </tr>\n",
       "    <tr>\n",
       "      <td>31</td>\n",
       "      <td>0</td>\n",
       "      <td>1</td>\n",
       "    </tr>\n",
       "    <tr>\n",
       "      <td>32</td>\n",
       "      <td>0</td>\n",
       "      <td>0</td>\n",
       "    </tr>\n",
       "    <tr>\n",
       "      <td>33</td>\n",
       "      <td>0</td>\n",
       "      <td>0</td>\n",
       "    </tr>\n",
       "    <tr>\n",
       "      <td>34</td>\n",
       "      <td>0</td>\n",
       "      <td>0</td>\n",
       "    </tr>\n",
       "    <tr>\n",
       "      <td>35</td>\n",
       "      <td>0</td>\n",
       "      <td>0</td>\n",
       "    </tr>\n",
       "    <tr>\n",
       "      <td>36</td>\n",
       "      <td>0</td>\n",
       "      <td>0</td>\n",
       "    </tr>\n",
       "    <tr>\n",
       "      <td>37</td>\n",
       "      <td>0</td>\n",
       "      <td>0</td>\n",
       "    </tr>\n",
       "    <tr>\n",
       "      <td>38</td>\n",
       "      <td>0</td>\n",
       "      <td>1</td>\n",
       "    </tr>\n",
       "    <tr>\n",
       "      <td>39</td>\n",
       "      <td>0</td>\n",
       "      <td>0</td>\n",
       "    </tr>\n",
       "    <tr>\n",
       "      <td>40</td>\n",
       "      <td>0</td>\n",
       "      <td>1</td>\n",
       "    </tr>\n",
       "    <tr>\n",
       "      <td>41</td>\n",
       "      <td>0</td>\n",
       "      <td>0</td>\n",
       "    </tr>\n",
       "    <tr>\n",
       "      <td>42</td>\n",
       "      <td>0</td>\n",
       "      <td>0</td>\n",
       "    </tr>\n",
       "    <tr>\n",
       "      <td>43</td>\n",
       "      <td>0</td>\n",
       "      <td>1</td>\n",
       "    </tr>\n",
       "    <tr>\n",
       "      <td>44</td>\n",
       "      <td>0</td>\n",
       "      <td>0</td>\n",
       "    </tr>\n",
       "    <tr>\n",
       "      <td>45</td>\n",
       "      <td>0</td>\n",
       "      <td>0</td>\n",
       "    </tr>\n",
       "    <tr>\n",
       "      <td>46</td>\n",
       "      <td>0</td>\n",
       "      <td>0</td>\n",
       "    </tr>\n",
       "    <tr>\n",
       "      <td>47</td>\n",
       "      <td>0</td>\n",
       "      <td>0</td>\n",
       "    </tr>\n",
       "    <tr>\n",
       "      <td>48</td>\n",
       "      <td>1</td>\n",
       "      <td>1</td>\n",
       "    </tr>\n",
       "    <tr>\n",
       "      <td>49</td>\n",
       "      <td>0</td>\n",
       "      <td>1</td>\n",
       "    </tr>\n",
       "  </tbody>\n",
       "</table>\n",
       "</div>"
      ],
      "text/plain": [
       "    Prediction  Actual\n",
       "0            0       1\n",
       "1            0       0\n",
       "2            0       1\n",
       "3            0       0\n",
       "4            0       0\n",
       "5            0       0\n",
       "6            0       1\n",
       "7            0       0\n",
       "8            0       1\n",
       "9            0       0\n",
       "10           0       1\n",
       "11           0       0\n",
       "12           0       1\n",
       "13           0       0\n",
       "14           0       0\n",
       "15           0       0\n",
       "16           0       0\n",
       "17           0       1\n",
       "18           0       0\n",
       "19           0       0\n",
       "20           1       1\n",
       "21           0       0\n",
       "22           0       0\n",
       "23           0       1\n",
       "24           0       0\n",
       "25           0       0\n",
       "26           0       1\n",
       "27           0       0\n",
       "28           1       0\n",
       "29           0       1\n",
       "30           0       0\n",
       "31           0       1\n",
       "32           0       0\n",
       "33           0       0\n",
       "34           0       0\n",
       "35           0       0\n",
       "36           0       0\n",
       "37           0       0\n",
       "38           0       1\n",
       "39           0       0\n",
       "40           0       1\n",
       "41           0       0\n",
       "42           0       0\n",
       "43           0       1\n",
       "44           0       0\n",
       "45           0       0\n",
       "46           0       0\n",
       "47           0       0\n",
       "48           1       1\n",
       "49           0       1"
      ]
     },
     "execution_count": 10,
     "metadata": {},
     "output_type": "execute_result"
    }
   ],
   "source": [
    "# Create Dataframe\n",
    "compare = pd.DataFrame({\"Prediction\": predictions, \"Actual\": y_test}).reset_index(drop=True)\n",
    "\n",
    "# Show First 50 Comparisons\n",
    "compare.head(50)"
   ]
  },
  {
   "cell_type": "code",
   "execution_count": 11,
   "metadata": {},
   "outputs": [],
   "source": [
    "# Save Feature Importances\n",
    "results = sorted(zip(rf.feature_importances_, feature_names), reverse=True)\n",
    "\n",
    "# Set Empty String\n",
    "values = []\n",
    "\n",
    "# Set Empty String\n",
    "names = []\n",
    "\n",
    "# Save Names & Values\n",
    "for x in range(len(results)):\n",
    "    values.append(results[x][0])\n",
    "    names.append(results[x][1])"
   ]
  },
  {
   "cell_type": "code",
   "execution_count": 12,
   "metadata": {
    "scrolled": true
   },
   "outputs": [
    {
     "data": {
      "image/png": "[encoded data removed]",
      "text/plain": [
       "<Figure size 432x288 with 1 Axes>"
      ]
     },
     "metadata": {
      "needs_background": "light"
     },
     "output_type": "display_data"
    },
    {
     "data": {
      "text/plain": [
       "<Figure size 432x288 with 0 Axes>"
      ]
     },
     "metadata": {},
     "output_type": "display_data"
    }
   ],
   "source": [
    "# Plot New Figure\n",
    "plt.figure()\n",
    "\n",
    "# Bar Chart\n",
    "plt.bar(names[0:15], values[0:15])\n",
    "\n",
    "# Set XTicks\n",
    "plt.xticks(names[0:15], rotation=\"vertical\")\n",
    "\n",
    "# Set Title\n",
    "plt.title(\"Feature Importance Frequency\")\n",
    "\n",
    "# Set Y Label\n",
    "plt.ylabel(\"Frequency\")\n",
    "\n",
    "# Set X Label\n",
    "plt.xlabel(\"Feature Importance\")\n",
    "\n",
    "# Display Chart\n",
    "plt.show()\n",
    "\n",
    "# Tight Layout\n",
    "plt.tight_layout()"
   ]
  },
  {
   "cell_type": "code",
   "execution_count": 13,
   "metadata": {},
   "outputs": [],
   "source": [
    "just_data = 0.6530612244897959"
   ]
  },
  {
   "cell_type": "code",
   "execution_count": 14,
   "metadata": {},
   "outputs": [],
   "source": [
    "weight = 0.6626650660264105"
   ]
  },
  {
   "cell_type": "code",
   "execution_count": 15,
   "metadata": {},
   "outputs": [],
   "source": [
    "weight_hot = 0.6602641056422569"
   ]
  },
  {
   "cell_type": "code",
   "execution_count": 16,
   "metadata": {},
   "outputs": [],
   "source": [
    "hot_bmi = 0.6566626650660264"
   ]
  },
  {
   "cell_type": "code",
   "execution_count": 17,
   "metadata": {},
   "outputs": [],
   "source": [
    "weight_hot_bmi = 0.65906362545018"
   ]
  },
  {
   "cell_type": "code",
   "execution_count": 18,
   "metadata": {},
   "outputs": [],
   "source": [
    "weight_hot_elevation = 0.6698679471788715"
   ]
  },
  {
   "cell_type": "code",
   "execution_count": 19,
   "metadata": {},
   "outputs": [],
   "source": [
    "weight_and_elevation = 0.6758703481392557"
   ]
  },
  {
   "cell_type": "code",
   "execution_count": 20,
   "metadata": {},
   "outputs": [],
   "source": [
    "elevation_bmi_weight = 0.6758703481392557"
   ]
  },
  {
   "cell_type": "code",
   "execution_count": 21,
   "metadata": {},
   "outputs": [],
   "source": [
    "elevation_bmi_weight_hot  = 0.6722689075630253"
   ]
  },
  {
   "cell_type": "code",
   "execution_count": 22,
   "metadata": {},
   "outputs": [],
   "source": [
    "elevation_bmi_hot = 0.6818727490996399"
   ]
  },
  {
   "cell_type": "code",
   "execution_count": 23,
   "metadata": {},
   "outputs": [],
   "source": [
    "elevation_bmi = 0.673469387755102"
   ]
  },
  {
   "cell_type": "code",
   "execution_count": 24,
   "metadata": {},
   "outputs": [],
   "source": [
    "elevation_bmi_hot_pollution = 0.6368638239339752"
   ]
  },
  {
   "cell_type": "code",
   "execution_count": 25,
   "metadata": {},
   "outputs": [],
   "source": [
    "elevation_bmi_hot_pollution_attendance = 0.6718092566619915"
   ]
  },
  {
   "cell_type": "code",
   "execution_count": 26,
   "metadata": {},
   "outputs": [],
   "source": [
    "elevation_bmi_hot_attendance = 0.6691176470588235"
   ]
  },
  {
   "cell_type": "code",
   "execution_count": 27,
   "metadata": {},
   "outputs": [],
   "source": [
    "elevation_bmi_attendance = 0.6580882352941176"
   ]
  },
  {
   "cell_type": "code",
   "execution_count": 28,
   "metadata": {},
   "outputs": [],
   "source": [
    "elevation_bmi_attendance_pollution = 0.6661991584852734"
   ]
  },
  {
   "cell_type": "code",
   "execution_count": 29,
   "metadata": {},
   "outputs": [],
   "source": [
    "elevation_bmi_attendance_pollution_weight_hot = 0.6690042075736325"
   ]
  }
 ],
 "metadata": {
  "kernelspec": {
   "display_name": "Python 3",
   "language": "python",
   "name": "python3"
  },
  "language_info": {
   "codemirror_mode": {
    "name": "ipython",
    "version": 3
   },
   "file_extension": ".py",
   "mimetype": "text/x-python",
   "name": "python",
   "nbconvert_exporter": "python",
   "pygments_lexer": "ipython3",
   "version": "3.7.4"
  }
 },
 "nbformat": 4,
 "nbformat_minor": 2
}
